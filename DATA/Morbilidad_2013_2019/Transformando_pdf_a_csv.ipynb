{
 "cells": [
  {
   "cell_type": "markdown",
   "metadata": {},
   "source": [
    "## Mientras buscaba los datos de mortabilidad asociados al cancer de mama, pude darme cuenta que solo habían datos accesibles en formato ```pdf``` por esta razón, tuve que transformar los datos a ```csv```, para esto usé la paquetería ```tabula``` y realicé una función para automatizar la transformación de los archivos correspondientes: "
   ]
  },
  {
   "cell_type": "code",
   "execution_count": null,
   "metadata": {},
   "outputs": [],
   "source": [
    "#imoporto la librería y hago una prueba con un archivo:\n",
    "from tabula import convert_into\n",
    "convert_into(\"morbilidad_2013.pdf\", \"test.csv\", output_format=\"csv\")"
   ]
  },
  {
   "cell_type": "code",
   "execution_count": null,
   "metadata": {},
   "outputs": [],
   "source": [
    "#defino mi transformador\n",
    "def transformador(file, salida): \n",
    "    d = convert_into(file, salida, outuput_format = 'csv')\n",
    "    return d"
   ]
  },
  {
   "cell_type": "code",
   "execution_count": null,
   "metadata": {},
   "outputs": [],
   "source": [
    "#creo listas con los nombres de los archivos correspondientes: \n",
    "\n",
    "lista_pdf = []\n",
    "lista_csv = []\n",
    "for i in range(3, 10):\n",
    "    lista_pdf.append(f\"morbilidad_201{i}.pdf\")\n",
    "    lista_csv.append(f\"morbilidad_201{i}.csv\")\n",
    "    \n",
    "print(lista_pdf, '\\n', lista_csv)"
   ]
  },
  {
   "cell_type": "code",
   "execution_count": null,
   "metadata": {},
   "outputs": [],
   "source": [
    "#transformo en el rango de mis listas\n",
    "for i in range(0,len(lista_pdf)):\n",
    "    transformador(lista_pdf[i], lista_csv[i])"
   ]
  },
  {
   "cell_type": "markdown",
   "metadata": {},
   "source": [
    "Datos disponibles en la fuente: SALUD, Dirección General de Epidemiología (DGE). (2020). Anuarios de Morbilidad 1984-2019. Disponible en: https://epidemiologia.salud.gob.mx/anuario/html/incidencia_enfermedad.html"
   ]
  }
 ],
 "metadata": {
  "kernelspec": {
   "display_name": "Python 3",
   "language": "python",
   "name": "python3"
  },
  "language_info": {
   "codemirror_mode": {
    "name": "ipython",
    "version": 3
   },
   "file_extension": ".py",
   "mimetype": "text/x-python",
   "name": "python",
   "nbconvert_exporter": "python",
   "pygments_lexer": "ipython3",
   "version": "3.8.5"
  }
 },
 "nbformat": 4,
 "nbformat_minor": 4
}

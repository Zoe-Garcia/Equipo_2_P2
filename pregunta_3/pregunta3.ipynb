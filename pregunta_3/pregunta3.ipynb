# Pregunta 3. de investigación
###. Factores que influyen en la indicencia de cancer de mama en las mujeres

#Importacion de paquetes
import pandas as pd

 Dataset 1:

Resultados de Mastografías en México en 2019

#carga de datos 
mastografias_2019 = pd.read_csv("/content/drive/MyDrive/Datasets_python3/Mastografías 2019.csv",sep=",",encoding="latin-1",header=1)

mastografias_2019.head(5)

#Solo se seleccionan las columnas para el analisis
mastografias_2019_copia = mastografias_2019.copy()
mastografias_2019_copia = mastografias_2019_copia[["Edad","Fecha Interpretación Masto","Resultado"]]

#Se buscan diferentes edades que existen en el df
mastografias_2019_copia['Edad'].unique()

#se busca si existen valores NaN
mastografias_2019_copia.isna().sum(axis=0)

#Eliminaciond valores NaN
mastografias_2019_copia = mastografias_2019_copia.dropna(axis=0)

# Comprobacion de que se eliminaron los datos NaN
print(mastografias_2019_copia.isna().sum(axis=0))
print(mastografias_2019.shape)
print(mastografias_2019_copia.shape)

# Se buscan los diferentes tipos de resultados que se obtuvieron
mastografias_2019_copia['Resultado'].unique()

#Se realiza conteo de registros por resultado y edad
agrupacion_resultado = mastografias_2019_copia.groupby(["Resultado","Edad"])[["Edad"]].agg("count")
agrupacion_resultado

#Promedio, mediana y desviación estandar de edad por cada tipo de resultado
print(mastografias_2019_copia.groupby(["Resultado"])[["Edad"]].agg(['mean', 'median', 'std']))
#Suma de registros por cada tipo de resultado
print(mastografias_2019_copia.groupby(["Resultado"])[["Edad"]].count().sort_values(by="Edad"))

## Resultado Benigno

#Top10 de edades donde el resultado de la mastografía fue Benigno. 
agrupacion_resultado.columns =["Conteo"]
print("\n10 primeras edades donde el resultado es Benigno")
print(agrupacion_resultado.loc["Benigna"].sort_values(by="Conteo",ascending =False).head(10))
print("\n10 ultimas edades donde el resultado es Benigno")
print(agrupacion_resultado.loc["Benigna"].sort_values(by="Conteo",ascending =False).tail(10))

# Analisis solo con mujeres mayores de 40 años
solo_mayores_40 = mastografias_2019_copia[mastografias_2019_copia["Edad"]>=40]
solo_mayores_40 = solo_mayores_40.groupby(["Resultado"])[["Edad"]].agg("count")
print(solo_mayores_40)
print("\nPorcentaje de resultado Bedigno: ")
print(((solo_mayores_40.loc["Benigna"].sum())/(agrupacion_resultado.loc[["Benigna"]].sum()))*100)

## Resultado entre intermedio y alto de Malignidad

solo_mayores_40 = mastografias_2019_copia[mastografias_2019_copia["Edad"]>=40]
solo_mayores_40 = solo_mayores_40.groupby(["Resultado"])[["Edad"]].agg("count")
(solo_mayores_40.loc["Altamente Sugestiva a Malignidad"].sum())/(agrupacion_resultado.loc[["Altamente Sugestiva a Malignidad","Riesgo Intermedio de Malignidad"]].sum())

#Top10 de edades donde el resultado de la mastografía fue Negativa. 
print("\n10 primeras edades donde se obtuvo como resultado un riesgo entre intermedio y alto de Malignidad")
print(agrupacion_resultado.loc[["Altamente Sugestiva a Malignidad","Riesgo Intermedio de Malignidad"]].sort_values(by ="Conteo",ascending =False).head(10))
print("\n10 ultimas edades donde se obtuvo como resultado un riesgo entre intermedio y alto de Malignidad")
print(agrupacion_resultado.loc[["Altamente Sugestiva a Malignidad","Riesgo Intermedio de Malignidad"]].sort_values(by="Conteo",ascending =False).tail(10))

### Analisis sin resultados Benignos

sin_benignos = mastografias_2019_copia[mastografias_2019_copia["Resultado"]!="Benigna"]
#agrupacion
sin_benignos = sin_benignos.groupby(["Resultado"])[["Edad"]].agg("count")
print(sin_benignos)
print("\nPorcentaje de resultado Bedigno: ")
print(((sin_benignos.loc["Altamente Sugestiva a Malignidad"])/(sin_benignos["Edad"].sum()))*100)
print(((sin_benignos.loc["Riesgo Intermedio de Malignidad"])/(sin_benignos["Edad"].sum()))*100)

# Conclusion
Se puede observar que una gran parte de las personas que se realizaron una mastografía obtuvieron un resultado "Benigno", por otro lado, fijandonos en los resultados "Malignos" estos ocupan un porcentaje minimo en la muestra total, sin embargo se lográ apreciar que las mujeres mayores de 40 años son las más propensas a tener un resultado Maligno.

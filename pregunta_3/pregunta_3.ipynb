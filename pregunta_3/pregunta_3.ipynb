{
  "nbformat": 4,
  "nbformat_minor": 0,
  "metadata": {
    "colab": {
      "name": "pregunta_3.ipynb",
      "provenance": [],
      "collapsed_sections": [
        "-U7gagMNmjo4"
      ]
    },
    "kernelspec": {
      "name": "python3",
      "display_name": "Python 3"
    }
  },
  "cells": [
    {
      "cell_type": "markdown",
      "metadata": {
        "id": "F3lgG4M-UgMI"
      },
      "source": [
        "# Pregunta 3. de investigación\r\n",
        "###. Factores que influyen en la indicencia de cancer de mama en las mujeres"
      ]
    },
    {
      "cell_type": "code",
      "metadata": {
        "id": "FOmMOuteUfNO"
      },
      "source": [
        "#Importacion de paquetes\r\n",
        "import pandas as pd"
      ],
      "execution_count": 1,
      "outputs": []
    },
    {
      "cell_type": "markdown",
      "metadata": {
        "id": "GzMMo2yBf_G_"
      },
      "source": [
        " Dataset 1:\r\n",
        "\r\n",
        "Resultados de Mastografías en México en 2019"
      ]
    },
    {
      "cell_type": "code",
      "metadata": {
        "id": "5PzA3OOAVLl9"
      },
      "source": [
        "#carga de datos \r\n",
        "mastografias_2019 = pd.read_csv(\"/content/drive/MyDrive/Datasets_python3/Mastografías 2019.csv\",sep=\",\",encoding=\"latin-1\",header=1)"
      ],
      "execution_count": 2,
      "outputs": []
    },
    {
      "cell_type": "code",
      "metadata": {
        "colab": {
          "base_uri": "https://localhost:8080/",
          "height": 224
        },
        "id": "w-d3tMsOW5JK",
        "outputId": "f1ee891e-8d34-4595-925a-1af4e8312060"
      },
      "source": [
        "mastografias_2019.head(5)"
      ],
      "execution_count": 3,
      "outputs": [
        {
          "output_type": "execute_result",
          "data": {
            "text/html": [
              "<div>\n",
              "<style scoped>\n",
              "    .dataframe tbody tr th:only-of-type {\n",
              "        vertical-align: middle;\n",
              "    }\n",
              "\n",
              "    .dataframe tbody tr th {\n",
              "        vertical-align: top;\n",
              "    }\n",
              "\n",
              "    .dataframe thead th {\n",
              "        text-align: right;\n",
              "    }\n",
              "</style>\n",
              "<table border=\"1\" class=\"dataframe\">\n",
              "  <thead>\n",
              "    <tr style=\"text-align: right;\">\n",
              "      <th></th>\n",
              "      <th>Clave Entidad</th>\n",
              "      <th>Entidad</th>\n",
              "      <th>Clave Jurisdicción</th>\n",
              "      <th>Jurisdicción</th>\n",
              "      <th>Clave Municipio</th>\n",
              "      <th>Municipio</th>\n",
              "      <th>Edad</th>\n",
              "      <th>Fecha Toma Masto</th>\n",
              "      <th>Fecha Interpretación Masto</th>\n",
              "      <th>Resultado</th>\n",
              "    </tr>\n",
              "  </thead>\n",
              "  <tbody>\n",
              "    <tr>\n",
              "      <th>0</th>\n",
              "      <td>1.0</td>\n",
              "      <td>Aguascalientes</td>\n",
              "      <td>1.0</td>\n",
              "      <td>Aguascalientes</td>\n",
              "      <td>1.0</td>\n",
              "      <td>AGUASCALIENTES</td>\n",
              "      <td>45.0</td>\n",
              "      <td>04/11/2019</td>\n",
              "      <td>04/11/2019</td>\n",
              "      <td>Benigna</td>\n",
              "    </tr>\n",
              "    <tr>\n",
              "      <th>1</th>\n",
              "      <td>1.0</td>\n",
              "      <td>Aguascalientes</td>\n",
              "      <td>1.0</td>\n",
              "      <td>Aguascalientes</td>\n",
              "      <td>1.0</td>\n",
              "      <td>AGUASCALIENTES</td>\n",
              "      <td>55.0</td>\n",
              "      <td>03/11/2019</td>\n",
              "      <td>03/11/2019</td>\n",
              "      <td>Benigna</td>\n",
              "    </tr>\n",
              "    <tr>\n",
              "      <th>2</th>\n",
              "      <td>1.0</td>\n",
              "      <td>Aguascalientes</td>\n",
              "      <td>1.0</td>\n",
              "      <td>Aguascalientes</td>\n",
              "      <td>1.0</td>\n",
              "      <td>AGUASCALIENTES</td>\n",
              "      <td>61.0</td>\n",
              "      <td>04/11/2019</td>\n",
              "      <td>04/11/2019</td>\n",
              "      <td>Benigna</td>\n",
              "    </tr>\n",
              "    <tr>\n",
              "      <th>3</th>\n",
              "      <td>1.0</td>\n",
              "      <td>Aguascalientes</td>\n",
              "      <td>1.0</td>\n",
              "      <td>Aguascalientes</td>\n",
              "      <td>1.0</td>\n",
              "      <td>AGUASCALIENTES</td>\n",
              "      <td>60.0</td>\n",
              "      <td>03/11/2019</td>\n",
              "      <td>03/11/2019</td>\n",
              "      <td>Benigna</td>\n",
              "    </tr>\n",
              "    <tr>\n",
              "      <th>4</th>\n",
              "      <td>1.0</td>\n",
              "      <td>Aguascalientes</td>\n",
              "      <td>1.0</td>\n",
              "      <td>Aguascalientes</td>\n",
              "      <td>1.0</td>\n",
              "      <td>AGUASCALIENTES</td>\n",
              "      <td>52.0</td>\n",
              "      <td>09/11/2019</td>\n",
              "      <td>09/11/2019</td>\n",
              "      <td>Benigna</td>\n",
              "    </tr>\n",
              "  </tbody>\n",
              "</table>\n",
              "</div>"
            ],
            "text/plain": [
              "   Clave Entidad         Entidad  ...  Fecha Interpretación Masto Resultado\n",
              "0            1.0  Aguascalientes  ...                  04/11/2019   Benigna\n",
              "1            1.0  Aguascalientes  ...                  03/11/2019   Benigna\n",
              "2            1.0  Aguascalientes  ...                  04/11/2019   Benigna\n",
              "3            1.0  Aguascalientes  ...                  03/11/2019   Benigna\n",
              "4            1.0  Aguascalientes  ...                  09/11/2019   Benigna\n",
              "\n",
              "[5 rows x 10 columns]"
            ]
          },
          "metadata": {
            "tags": []
          },
          "execution_count": 3
        }
      ]
    },
    {
      "cell_type": "code",
      "metadata": {
        "id": "fb3l908MX7G2"
      },
      "source": [
        "#Solo se seleccionan las columnas para el analisis\r\n",
        "mastografias_2019_copia = mastografias_2019.copy()\r\n",
        "mastografias_2019_copia = mastografias_2019_copia[[\"Edad\",\"Fecha Interpretación Masto\",\"Resultado\"]]"
      ],
      "execution_count": 4,
      "outputs": []
    },
    {
      "cell_type": "code",
      "metadata": {
        "colab": {
          "base_uri": "https://localhost:8080/"
        },
        "id": "ZPmy3rgzcMvc",
        "outputId": "ea33fae1-2b2c-4f72-99a5-7a311161851a"
      },
      "source": [
        "#Se buscan diferentes edades que existen en el df\r\n",
        "mastografias_2019_copia['Edad'].unique()"
      ],
      "execution_count": 5,
      "outputs": [
        {
          "output_type": "execute_result",
          "data": {
            "text/plain": [
              "array([45., 55., 61., 60., 52., 59., 56., 66., 53., 47., 50., 62., 51.,\n",
              "       42., 46., 41., 65., 57., 43., 58., 54., 48., 68., 67., 44., 64.,\n",
              "       40., 49., 69., 38., 37., 63., 32., 33., 35., 39., 36., 34., 28.,\n",
              "       30., 27., 29., 31., 26., 25., nan])"
            ]
          },
          "metadata": {
            "tags": []
          },
          "execution_count": 5
        }
      ]
    },
    {
      "cell_type": "code",
      "metadata": {
        "colab": {
          "base_uri": "https://localhost:8080/"
        },
        "id": "7gSnTQBHcuDk",
        "outputId": "d4d846bf-dd53-4a17-fc59-ef2171d9d95c"
      },
      "source": [
        "#se busca si existen valores NaN\r\n",
        "mastografias_2019_copia.isna().sum(axis=0)"
      ],
      "execution_count": 6,
      "outputs": [
        {
          "output_type": "execute_result",
          "data": {
            "text/plain": [
              "Edad                          26186\n",
              "Fecha Interpretación Masto    26186\n",
              "Resultado                     26186\n",
              "dtype: int64"
            ]
          },
          "metadata": {
            "tags": []
          },
          "execution_count": 6
        }
      ]
    },
    {
      "cell_type": "code",
      "metadata": {
        "id": "uqV9kE0fhLZu"
      },
      "source": [
        "#Eliminaciond valores NaN\r\n",
        "mastografias_2019_copia = mastografias_2019_copia.dropna(axis=0)"
      ],
      "execution_count": 7,
      "outputs": []
    },
    {
      "cell_type": "code",
      "metadata": {
        "colab": {
          "base_uri": "https://localhost:8080/"
        },
        "id": "qQoW8SRYjI6W",
        "outputId": "d8924d38-e18c-4175-9930-9630c29c0081"
      },
      "source": [
        "# Comprobacion de que se eliminaron los datos NaN\r\n",
        "print(mastografias_2019_copia.isna().sum(axis=0))\r\n",
        "print(mastografias_2019.shape)\r\n",
        "print(mastografias_2019_copia.shape)"
      ],
      "execution_count": 9,
      "outputs": [
        {
          "output_type": "stream",
          "text": [
            "(816904, 10)\n",
            "(790718, 3)\n"
          ],
          "name": "stdout"
        }
      ]
    },
    {
      "cell_type": "code",
      "metadata": {
        "colab": {
          "base_uri": "https://localhost:8080/"
        },
        "id": "6BBZzBJvimh6",
        "outputId": "dfea9c7a-6b8e-4eab-c2e0-70139d1ea110"
      },
      "source": [
        "# Se buscan los diferentes tipos de resultados que se obtuvieron\r\n",
        "mastografias_2019_copia['Resultado'].unique()"
      ],
      "execution_count": 10,
      "outputs": [
        {
          "output_type": "execute_result",
          "data": {
            "text/plain": [
              "array(['Benigna', 'Negativa', 'Riesgo Moderado de Malignidad',\n",
              "       'Anormalidad Sospechosa', 'Riesgo Intermedio de Malignidad',\n",
              "       'Altamente Sugestiva a Malignidad', 'Probablemente Benigna',\n",
              "       'Evaluación Adicional', 'Baja Sospecha de Malignidad'],\n",
              "      dtype=object)"
            ]
          },
          "metadata": {
            "tags": []
          },
          "execution_count": 10
        }
      ]
    },
    {
      "cell_type": "code",
      "metadata": {
        "id": "0KOh9WqwnGz7",
        "colab": {
          "base_uri": "https://localhost:8080/",
          "height": 455
        },
        "outputId": "3367c8e0-7c02-4ecf-bd79-1d7fe4999059"
      },
      "source": [
        "#Se realiza conteo de registros por resultado y edad\r\n",
        "agrupacion_resultado = mastografias_2019_copia.groupby([\"Resultado\",\"Edad\"])[[\"Edad\"]].agg(\"count\")\r\n",
        "agrupacion_resultado"
      ],
      "execution_count": 161,
      "outputs": [
        {
          "output_type": "execute_result",
          "data": {
            "text/html": [
              "<div>\n",
              "<style scoped>\n",
              "    .dataframe tbody tr th:only-of-type {\n",
              "        vertical-align: middle;\n",
              "    }\n",
              "\n",
              "    .dataframe tbody tr th {\n",
              "        vertical-align: top;\n",
              "    }\n",
              "\n",
              "    .dataframe thead th {\n",
              "        text-align: right;\n",
              "    }\n",
              "</style>\n",
              "<table border=\"1\" class=\"dataframe\">\n",
              "  <thead>\n",
              "    <tr style=\"text-align: right;\">\n",
              "      <th></th>\n",
              "      <th></th>\n",
              "      <th>Edad</th>\n",
              "    </tr>\n",
              "    <tr>\n",
              "      <th>Resultado</th>\n",
              "      <th>Edad</th>\n",
              "      <th></th>\n",
              "    </tr>\n",
              "  </thead>\n",
              "  <tbody>\n",
              "    <tr>\n",
              "      <th rowspan=\"5\" valign=\"top\">Altamente Sugestiva a Malignidad</th>\n",
              "      <th>26.0</th>\n",
              "      <td>1</td>\n",
              "    </tr>\n",
              "    <tr>\n",
              "      <th>27.0</th>\n",
              "      <td>1</td>\n",
              "    </tr>\n",
              "    <tr>\n",
              "      <th>28.0</th>\n",
              "      <td>1</td>\n",
              "    </tr>\n",
              "    <tr>\n",
              "      <th>30.0</th>\n",
              "      <td>2</td>\n",
              "    </tr>\n",
              "    <tr>\n",
              "      <th>31.0</th>\n",
              "      <td>3</td>\n",
              "    </tr>\n",
              "    <tr>\n",
              "      <th>...</th>\n",
              "      <th>...</th>\n",
              "      <td>...</td>\n",
              "    </tr>\n",
              "    <tr>\n",
              "      <th rowspan=\"5\" valign=\"top\">Riesgo Moderado de Malignidad</th>\n",
              "      <th>65.0</th>\n",
              "      <td>10</td>\n",
              "    </tr>\n",
              "    <tr>\n",
              "      <th>66.0</th>\n",
              "      <td>7</td>\n",
              "    </tr>\n",
              "    <tr>\n",
              "      <th>67.0</th>\n",
              "      <td>6</td>\n",
              "    </tr>\n",
              "    <tr>\n",
              "      <th>68.0</th>\n",
              "      <td>5</td>\n",
              "    </tr>\n",
              "    <tr>\n",
              "      <th>69.0</th>\n",
              "      <td>6</td>\n",
              "    </tr>\n",
              "  </tbody>\n",
              "</table>\n",
              "<p>385 rows × 1 columns</p>\n",
              "</div>"
            ],
            "text/plain": [
              "                                       Edad\n",
              "Resultado                        Edad      \n",
              "Altamente Sugestiva a Malignidad 26.0     1\n",
              "                                 27.0     1\n",
              "                                 28.0     1\n",
              "                                 30.0     2\n",
              "                                 31.0     3\n",
              "...                                     ...\n",
              "Riesgo Moderado de Malignidad    65.0    10\n",
              "                                 66.0     7\n",
              "                                 67.0     6\n",
              "                                 68.0     5\n",
              "                                 69.0     6\n",
              "\n",
              "[385 rows x 1 columns]"
            ]
          },
          "metadata": {
            "tags": []
          },
          "execution_count": 161
        }
      ]
    },
    {
      "cell_type": "code",
      "metadata": {
        "colab": {
          "base_uri": "https://localhost:8080/"
        },
        "id": "AwV5oA2Sg6SV",
        "outputId": "4dc001db-c551-499f-fcee-7b585192f5ab"
      },
      "source": [
        "#Promedio, mediana y desviación estandar de edad por cada tipo de resultado\r\n",
        "print(mastografias_2019_copia.groupby([\"Resultado\"])[[\"Edad\"]].agg(['mean', 'median', 'std']))\r\n",
        "#Suma de registros por cada tipo de resultado\r\n",
        "print(mastografias_2019_copia.groupby([\"Resultado\"])[[\"Edad\"]].count().sort_values(by=\"Edad\"))"
      ],
      "execution_count": 133,
      "outputs": [
        {
          "output_type": "stream",
          "text": [
            "                                       Edad                 \n",
            "                                       mean median       std\n",
            "Resultado                                                   \n",
            "Altamente Sugestiva a Malignidad  52.808333   53.0  8.625744\n",
            "Anormalidad Sospechosa            50.874771   50.0  7.833224\n",
            "Baja Sospecha de Malignidad       50.168142   49.0  7.786495\n",
            "Benigna                           51.823739   51.0  7.608225\n",
            "Evaluación Adicional              49.026600   48.0  6.974052\n",
            "Negativa                          50.781357   50.0  7.294853\n",
            "Probablemente Benigna             50.198712   49.0  7.381009\n",
            "Riesgo Intermedio de Malignidad   50.969422   50.0  8.209983\n",
            "Riesgo Moderado de Malignidad     51.384817   50.0  8.707018\n",
            "                                    Edad\n",
            "Resultado                               \n",
            "Riesgo Moderado de Malignidad        382\n",
            "Riesgo Intermedio de Malignidad      883\n",
            "Baja Sospecha de Malignidad          904\n",
            "Altamente Sugestiva a Malignidad    1080\n",
            "Anormalidad Sospechosa              2731\n",
            "Probablemente Benigna              15067\n",
            "Evaluación Adicional               53459\n",
            "Negativa                          108579\n",
            "Benigna                           607633\n"
          ],
          "name": "stdout"
        }
      ]
    },
    {
      "cell_type": "markdown",
      "metadata": {
        "id": "uQzP-a05PCr7"
      },
      "source": [
        "## Resultado Benigno"
      ]
    },
    {
      "cell_type": "code",
      "metadata": {
        "colab": {
          "base_uri": "https://localhost:8080/"
        },
        "id": "axY9kUTHoGGB",
        "outputId": "c6484f75-a9a6-4756-c1c9-8720165d3e3c"
      },
      "source": [
        "#Top10 de edades donde el resultado de la mastografía fue Benigno. \r\n",
        "agrupacion_resultado.columns =[\"Conteo\"]\r\n",
        "print(\"\\n10 primeras edades donde el resultado es Benigno\")\r\n",
        "print(agrupacion_resultado.loc[\"Benigna\"].sort_values(by=\"Conteo\",ascending =False).head(10))\r\n",
        "print(\"\\n10 ultimas edades donde el resultado es Benigno\")\r\n",
        "print(agrupacion_resultado.loc[\"Benigna\"].sort_values(by=\"Conteo\",ascending =False).tail(10))"
      ],
      "execution_count": 203,
      "outputs": [
        {
          "output_type": "stream",
          "text": [
            "\n",
            "10 primeras edades donde el resultado es Benigno\n",
            "      Conteo\n",
            "Edad        \n",
            "45.0   28904\n",
            "47.0   28810\n",
            "46.0   28748\n",
            "44.0   28253\n",
            "48.0   27622\n",
            "50.0   27366\n",
            "49.0   27185\n",
            "43.0   26936\n",
            "51.0   26243\n",
            "52.0   25498\n",
            "\n",
            "10 ultimas edades donde el resultado es Benigno\n",
            "      Conteo\n",
            "Edad        \n",
            "34.0      97\n",
            "33.0      49\n",
            "32.0      44\n",
            "31.0      39\n",
            "30.0      27\n",
            "29.0      22\n",
            "28.0      22\n",
            "27.0      12\n",
            "25.0      10\n",
            "26.0       8\n"
          ],
          "name": "stdout"
        }
      ]
    },
    {
      "cell_type": "code",
      "metadata": {
        "colab": {
          "base_uri": "https://localhost:8080/"
        },
        "id": "wKsEOUVew9J5",
        "outputId": "b1848f0f-d6aa-4cf7-a57b-7ac32bfc70dc"
      },
      "source": [
        "# Analisis solo con mujeres mayores de 40 años\r\n",
        "solo_mayores_40 = mastografias_2019_copia[mastografias_2019_copia[\"Edad\"]>=40]\r\n",
        "solo_mayores_40 = solo_mayores_40.groupby([\"Resultado\"])[[\"Edad\"]].agg(\"count\")\r\n",
        "print(solo_mayores_40)\r\n",
        "print(\"\\nPorcentaje de resultado Bedigno: \")\r\n",
        "print(((solo_mayores_40.loc[\"Benigna\"].sum())/(agrupacion_resultado.loc[[\"Benigna\"]].sum()))*100)"
      ],
      "execution_count": 248,
      "outputs": [
        {
          "output_type": "stream",
          "text": [
            "                                    Edad\n",
            "Resultado                               \n",
            "Altamente Sugestiva a Malignidad    1024\n",
            "Anormalidad Sospechosa              2666\n",
            "Baja Sospecha de Malignidad          871\n",
            "Benigna                           605352\n",
            "Evaluación Adicional               52811\n",
            "Negativa                          108100\n",
            "Probablemente Benigna              14899\n",
            "Riesgo Intermedio de Malignidad      852\n",
            "Riesgo Moderado de Malignidad        353\n",
            "\n",
            "Porcentaje de resultado Bedigno: \n",
            "Conteo    99.624609\n",
            "dtype: float64\n"
          ],
          "name": "stdout"
        }
      ]
    },
    {
      "cell_type": "markdown",
      "metadata": {
        "id": "_0vOlGlMPLjq"
      },
      "source": [
        "## Resultado entre intermedio y alto de Malignidad"
      ]
    },
    {
      "cell_type": "code",
      "metadata": {
        "colab": {
          "base_uri": "https://localhost:8080/"
        },
        "id": "WWGcQu4jYY_8",
        "outputId": "dd97a0f1-99a4-403d-d473-f0efe7c9010f"
      },
      "source": [
        "solo_mayores_40 = mastografias_2019_copia[mastografias_2019_copia[\"Edad\"]>=40]\r\n",
        "solo_mayores_40 = solo_mayores_40.groupby([\"Resultado\"])[[\"Edad\"]].agg(\"count\")\r\n",
        "(solo_mayores_40.loc[\"Altamente Sugestiva a Malignidad\"].sum())/(agrupacion_resultado.loc[[\"Altamente Sugestiva a Malignidad\",\"Riesgo Intermedio de Malignidad\"]].sum())"
      ],
      "execution_count": 255,
      "outputs": [
        {
          "output_type": "execute_result",
          "data": {
            "text/plain": [
              "Conteo    0.521651\n",
              "dtype: float64"
            ]
          },
          "metadata": {
            "tags": []
          },
          "execution_count": 255
        }
      ]
    },
    {
      "cell_type": "code",
      "metadata": {
        "colab": {
          "base_uri": "https://localhost:8080/"
        },
        "id": "IYXGgSqygzvY",
        "outputId": "a348007e-c7c0-4574-a31f-e03b7294de1f"
      },
      "source": [
        "#Top10 de edades donde el resultado de la mastografía fue Negativa. \r\n",
        "print(\"\\n10 primeras edades donde se obtuvo como resultado un riesgo entre intermedio y alto de Malignidad\")\r\n",
        "print(agrupacion_resultado.loc[[\"Altamente Sugestiva a Malignidad\",\"Riesgo Intermedio de Malignidad\"]].sort_values(by =\"Conteo\",ascending =False).head(10))\r\n",
        "print(\"\\n10 ultimas edades donde se obtuvo como resultado un riesgo entre intermedio y alto de Malignidad\")\r\n",
        "print(agrupacion_resultado.loc[[\"Altamente Sugestiva a Malignidad\",\"Riesgo Intermedio de Malignidad\"]].sort_values(by=\"Conteo\",ascending =False).tail(10))"
      ],
      "execution_count": 211,
      "outputs": [
        {
          "output_type": "stream",
          "text": [
            "\n",
            "10 primeras edades donde se obtuvo como resultado un riesgo entre intermedio y alto de Malignidad\n",
            "                                       Conteo\n",
            "Resultado                        Edad        \n",
            "Riesgo Intermedio de Malignidad  47.0      54\n",
            "Altamente Sugestiva a Malignidad 45.0      52\n",
            "                                 54.0      46\n",
            "Riesgo Intermedio de Malignidad  42.0      46\n",
            "Altamente Sugestiva a Malignidad 53.0      45\n",
            "                                 61.0      44\n",
            "                                 55.0      44\n",
            "                                 46.0      44\n",
            "Riesgo Intermedio de Malignidad  48.0      42\n",
            "Altamente Sugestiva a Malignidad 57.0      42\n",
            "\n",
            "10 ultimas edades donde se obtuvo como resultado un riesgo entre intermedio y alto de Malignidad\n",
            "                                       Conteo\n",
            "Resultado                        Edad        \n",
            "Riesgo Intermedio de Malignidad  31.0       2\n",
            "                                 29.0       2\n",
            "Altamente Sugestiva a Malignidad 30.0       2\n",
            "                                 34.0       2\n",
            "                                 33.0       2\n",
            "                                 28.0       1\n",
            "                                 27.0       1\n",
            "Riesgo Intermedio de Malignidad  25.0       1\n",
            "                                 36.0       1\n",
            "Altamente Sugestiva a Malignidad 26.0       1\n"
          ],
          "name": "stdout"
        }
      ]
    },
    {
      "cell_type": "markdown",
      "metadata": {
        "id": "qiTceWDWQMYx"
      },
      "source": [
        "### Analisis sin resultados Benignos"
      ]
    },
    {
      "cell_type": "code",
      "metadata": {
        "colab": {
          "base_uri": "https://localhost:8080/"
        },
        "id": "_4DylGneQLcF",
        "outputId": "23641f94-0af6-4c10-deb8-1c5399b2d130"
      },
      "source": [
        "sin_benignos = mastografias_2019_copia[mastografias_2019_copia[\"Resultado\"]!=\"Benigna\"]\r\n",
        "#agrupacion\r\n",
        "sin_benignos = sin_benignos.groupby([\"Resultado\"])[[\"Edad\"]].agg(\"count\")\r\n",
        "print(sin_benignos)\r\n",
        "print(\"\\nPorcentaje de resultado Bedigno: \")\r\n",
        "print(((sin_benignos.loc[\"Altamente Sugestiva a Malignidad\"])/(sin_benignos[\"Edad\"].sum()))*100)\r\n",
        "print(((sin_benignos.loc[\"Riesgo Intermedio de Malignidad\"])/(sin_benignos[\"Edad\"].sum()))*100)"
      ],
      "execution_count": 224,
      "outputs": [
        {
          "output_type": "stream",
          "text": [
            "                                    Edad\n",
            "Resultado                               \n",
            "Altamente Sugestiva a Malignidad    1080\n",
            "Anormalidad Sospechosa              2731\n",
            "Baja Sospecha de Malignidad          904\n",
            "Evaluación Adicional               53459\n",
            "Negativa                          108579\n",
            "Probablemente Benigna              15067\n",
            "Riesgo Intermedio de Malignidad      883\n",
            "Riesgo Moderado de Malignidad        382\n",
            "\n",
            "Porcentaje de resultado Bedigno: \n",
            "Edad    0.58989\n",
            "Name: Altamente Sugestiva a Malignidad, dtype: float64\n",
            "Edad    0.48229\n",
            "Name: Riesgo Intermedio de Malignidad, dtype: float64\n"
          ],
          "name": "stdout"
        }
      ]
    },
    {
      "cell_type": "markdown",
      "metadata": {
        "id": "-U7gagMNmjo4"
      },
      "source": [
        "# Conclusion\r\n",
        "Se puede observar que una gran parte de las personas que se realizaron una mastografía obtuvieron un resultado \"Benigno\", por otro lado, fijandonos en los resultados \"Malignos\" estos ocupan un porcentaje minimo en la muestra total, sin embargo se lográ apreciar que las mujeres mayores de 40 años son las más propensas a tener un resultado Maligno."
      ]
    }
  ]
}